{
 "cells": [
  {
   "cell_type": "code",
   "execution_count": 3,
   "metadata": {},
   "outputs": [],
   "source": [
    "import numpy as np\n",
    "import pandas as pd\n",
    "import re\n",
    "from xlsxwriter.utility import xl_rowcol_to_cell\n",
    "web = pd.read_csv(r\"\\file.csv\", sep=';', dtype=str, skiprows=[0])"
   ]
  },
  {
   "cell_type": "markdown",
   "metadata": {},
   "source": [
    "Файл csv"
   ]
  },
  {
   "cell_type": "code",
   "execution_count": 8,
   "metadata": {},
   "outputs": [],
   "source": [
    "baza = pd.read_csv(r\"D:\\Anaconda\\spiski\\BZ.csv\", sep=';')\n",
    "baza.columns = ['Email', 'Телефон', 'utm', 'vk']"
   ]
  },
  {
   "cell_type": "markdown",
   "metadata": {},
   "source": [
    "База телефонов, заменяем имена столбцов в Базе телефонов"
   ]
  },
  {
   "cell_type": "code",
   "execution_count": 10,
   "metadata": {
    "scrolled": false
   },
   "outputs": [],
   "source": [
    "for index, row in web.iterrows():\n",
    "    if pd.isnull(web.iloc[index,24]) and re.search('email', str(row['utm_phrase'])) == None and re.search('link', str(row['utm_phrase'])) == None and re.search('sms', str(row['utm_phrase'])) == None and re.search('utm_banner=', str(row['Ссылка входа'])) != None:\n",
    "        row['utm_banner']=str(row['Ссылка входа']).split('utm_banner=', 1)[1].split('&utm_phrase=')[0]\n",
    "    if pd.isnull(web.iloc[index,24]) and re.search('email', str(row['utm_phrase'])) == None and re.search('link', str(row['utm_phrase'])) == None and re.search('sms', str(row['utm_phrase'])) == None and re.search('utm_banner=', str(row['Переход с'])) != None:\n",
    "        row['utm_banner']=str(row['Переход с']).split('utm_banner=', 1)[1].split('&utm_phrase=')[0] "
   ]
  },
  {
   "cell_type": "markdown",
   "metadata": {},
   "source": [
    "Находим пустые штуки, где возможно нужно добавить id"
   ]
  },
  {
   "cell_type": "code",
   "execution_count": 11,
   "metadata": {
    "scrolled": true
   },
   "outputs": [],
   "source": [
    "df_kl = web.dropna(subset = ['Клик по баннеру'])\n",
    "df_kb = df_kl[['Имя участника', 'utm_banner', 'E-mail']]"
   ]
  },
  {
   "cell_type": "markdown",
   "metadata": {},
   "source": [
    "Те кто кликнул по баннеру, оставляем только нужные столбцы"
   ]
  },
  {
   "cell_type": "code",
   "execution_count": 12,
   "metadata": {},
   "outputs": [],
   "source": [
    "df_on_kl = web.drop(np.where(web['Клик по баннеру'] == 'Клик по баннеру')[0])\n",
    "df_on_kb = df_on_kl[['Имя участника', 'utm_banner', 'E-mail']]"
   ]
  },
  {
   "cell_type": "markdown",
   "metadata": {},
   "source": [
    "Не кликнувшие, оставляем только нужные столбцы"
   ]
  },
  {
   "cell_type": "code",
   "execution_count": 13,
   "metadata": {},
   "outputs": [
    {
     "name": "stderr",
     "output_type": "stream",
     "text": [
      "D:\\Anaconda\\lib\\site-packages\\ipykernel_launcher.py:1: SettingWithCopyWarning: \n",
      "A value is trying to be set on a copy of a slice from a DataFrame.\n",
      "Try using .loc[row_indexer,col_indexer] = value instead\n",
      "\n",
      "See the caveats in the documentation: http://pandas.pydata.org/pandas-docs/stable/indexing.html#indexing-view-versus-copy\n",
      "  \"\"\"Entry point for launching an IPython kernel.\n",
      "D:\\Anaconda\\lib\\site-packages\\ipykernel_launcher.py:2: SettingWithCopyWarning: \n",
      "A value is trying to be set on a copy of a slice from a DataFrame.\n",
      "Try using .loc[row_indexer,col_indexer] = value instead\n",
      "\n",
      "See the caveats in the documentation: http://pandas.pydata.org/pandas-docs/stable/indexing.html#indexing-view-versus-copy\n",
      "  \n",
      "D:\\Anaconda\\lib\\site-packages\\ipykernel_launcher.py:3: SettingWithCopyWarning: \n",
      "A value is trying to be set on a copy of a slice from a DataFrame.\n",
      "Try using .loc[row_indexer,col_indexer] = value instead\n",
      "\n",
      "See the caveats in the documentation: http://pandas.pydata.org/pandas-docs/stable/indexing.html#indexing-view-versus-copy\n",
      "  This is separate from the ipykernel package so we can avoid doing imports until\n"
     ]
    }
   ],
   "source": [
    "df_kb['Телефон 1'] = None\n",
    "df_kb['Телефон 2'] = None\n",
    "df_kb['Телефон 3'] = None\n",
    "for index, row in df_kb.iterrows():\n",
    "    df1=baza.loc[lambda baza: baza.Email == row['E-mail'], :][\"Телефон\"]\n",
    "    df2=baza.loc[lambda baza: baza.utm == row['utm_banner'], :][\"Телефон\"]\n",
    "    df3=baza.loc[lambda baza: baza.vk == row['utm_banner'], :][\"Телефон\"]\n",
    "    if df1.empty:\n",
    "        row['Телефон 1'] = None        \n",
    "    else:\n",
    "        row['Телефон 1'] = df1.iloc[0]\n",
    "    if df2.empty:\n",
    "        row['Телефон 2'] = None        \n",
    "    else:\n",
    "        row['Телефон 2'] = df2.iloc[0]        \n",
    "    if df3.empty:\n",
    "        row['Телефон 3'] = None        \n",
    "    else:\n",
    "        row['Телефон 3'] = df3.iloc[0]\n",
    "for index, row in df_kb.iterrows():\n",
    "    if row['Телефон 1'] == None:\n",
    "        if row['Телефон 2'] == None:\n",
    "            row['Телефон 1'] = row['Телефон 3']\n",
    "        else:\n",
    "            row['Телефон 1'] = row['Телефон 2']"
   ]
  },
  {
   "cell_type": "markdown",
   "metadata": {},
   "source": [
    "Кликнувшие, подтягиваем телефоны"
   ]
  },
  {
   "cell_type": "code",
   "execution_count": 14,
   "metadata": {},
   "outputs": [
    {
     "name": "stderr",
     "output_type": "stream",
     "text": [
      "D:\\Anaconda\\lib\\site-packages\\ipykernel_launcher.py:1: SettingWithCopyWarning: \n",
      "A value is trying to be set on a copy of a slice from a DataFrame.\n",
      "Try using .loc[row_indexer,col_indexer] = value instead\n",
      "\n",
      "See the caveats in the documentation: http://pandas.pydata.org/pandas-docs/stable/indexing.html#indexing-view-versus-copy\n",
      "  \"\"\"Entry point for launching an IPython kernel.\n",
      "D:\\Anaconda\\lib\\site-packages\\ipykernel_launcher.py:2: SettingWithCopyWarning: \n",
      "A value is trying to be set on a copy of a slice from a DataFrame.\n",
      "Try using .loc[row_indexer,col_indexer] = value instead\n",
      "\n",
      "See the caveats in the documentation: http://pandas.pydata.org/pandas-docs/stable/indexing.html#indexing-view-versus-copy\n",
      "  \n",
      "D:\\Anaconda\\lib\\site-packages\\ipykernel_launcher.py:3: SettingWithCopyWarning: \n",
      "A value is trying to be set on a copy of a slice from a DataFrame.\n",
      "Try using .loc[row_indexer,col_indexer] = value instead\n",
      "\n",
      "See the caveats in the documentation: http://pandas.pydata.org/pandas-docs/stable/indexing.html#indexing-view-versus-copy\n",
      "  This is separate from the ipykernel package so we can avoid doing imports until\n"
     ]
    }
   ],
   "source": [
    "df_on_kb['Телефон 1'] = None\n",
    "df_on_kb['Телефон 2'] = None\n",
    "df_on_kb['Телефон 3'] = None\n",
    "for index, row in df_on_kb.iterrows():\n",
    "    df1_on=baza.loc[lambda baza: baza.Email == row['E-mail'], :][\"Телефон\"]\n",
    "    df2_on=baza.loc[lambda baza: baza.utm == row['utm_banner'], :][\"Телефон\"]\n",
    "    df3_on=baza.loc[lambda baza: baza.vk == row['utm_banner'], :][\"Телефон\"]\n",
    "    if df1_on.empty:\n",
    "        row['Телефон 1'] = None        \n",
    "    else:\n",
    "        row['Телефон 1'] = df1_on.iloc[0]\n",
    "    if df2_on.empty:\n",
    "        row['Телефон 2'] = None        \n",
    "    else:\n",
    "        row['Телефон 2'] = df2_on.iloc[0]        \n",
    "    if df3_on.empty:\n",
    "        row['Телефон 3'] = None        \n",
    "    else:\n",
    "        row['Телефон 3'] = df3_on.iloc[0]\n",
    "for index, row in df_on_kb.iterrows():\n",
    "    if row['Телефон 1'] == None:\n",
    "        if row['Телефон 2'] == None:\n",
    "            row['Телефон 1'] = row['Телефон 3']\n",
    "        else:\n",
    "            row['Телефон 1'] = row['Телефон 2']"
   ]
  },
  {
   "cell_type": "markdown",
   "metadata": {},
   "source": [
    "Некликнувшие, подтягиваем телефоны"
   ]
  },
  {
   "cell_type": "code",
   "execution_count": 15,
   "metadata": {},
   "outputs": [],
   "source": [
    "del df_kb['Телефон 2']\n",
    "del df_kb['Телефон 3']\n",
    "for index, row in df_kb.iterrows():\n",
    "    if not (pd.isnull(web.iloc[index,24])):\n",
    "        row['utm_banner'] = 'https://vk.com/id' + str(row['utm_banner'])\n",
    "df_kb = df_kb.dropna(subset = ['Телефон 1'])\n",
    "df_kb = df_kb.drop_duplicates(subset = \"Телефон 1\" , keep = 'first')"
   ]
  },
  {
   "cell_type": "markdown",
   "metadata": {},
   "source": [
    "Кликнувшие оставляем 1 телефон и добавляем ссылку на ВК, удаляем строки с пустыми телефонами, удаляем дубли по телефонам"
   ]
  },
  {
   "cell_type": "code",
   "execution_count": 16,
   "metadata": {
    "scrolled": false
   },
   "outputs": [],
   "source": [
    "del df_on_kb['Телефон 2']\n",
    "del df_on_kb['Телефон 3']\n",
    "for index, row in df_on_kb.iterrows():\n",
    "    if not (pd.isnull(web.iloc[index,24])):\n",
    "        row['utm_banner'] = 'https://vk.com/id' + str(row['utm_banner'])\n",
    "df_on_kb = df_on_kb.dropna(subset = ['Телефон 1'])\n",
    "df_on_kb = df_on_kb.drop_duplicates(subset = \"Телефон 1\" , keep = 'first')"
   ]
  },
  {
   "cell_type": "markdown",
   "metadata": {},
   "source": [
    "Некликнувшие оставляем 1 телефон и добавляем ссылку на ВК, удаляем строки с пустыми телефонами, удаляем дубли по телефонам"
   ]
  },
  {
   "cell_type": "code",
   "execution_count": 18,
   "metadata": {},
   "outputs": [],
   "source": [
    "df_kb.to_excel('\\file1.xlsx', startrow=0, index=False)\n",
    "df_on_kb.to_excel('\\file2.xlsx', startrow=0, index=False)"
   ]
  },
  {
   "cell_type": "markdown",
   "metadata": {},
   "source": [
    "Записываем в файлы"
   ]
  },
  {
   "cell_type": "markdown",
   "metadata": {},
   "source": [
    "# Удаление дублей"
   ]
  },
  {
   "cell_type": "code",
   "execution_count": 20,
   "metadata": {},
   "outputs": [],
   "source": [
    "x = pd.ExcelFile('file1.xlsx')\n",
    "hoh = x.parse('Sheet1')\n",
    "hoh = hoh.drop_duplicates(subset = \"Контактный номер телефона\" , keep = 'first')\n",
    "t = pd.ExcelFile('file2.xlsx',dtype=int)\n",
    "tel = t.parse('Sheet1')\n",
    "k = pd.ExcelFile('file3.xlsx')\n",
    "kl = k.parse('Sheet1')\n",
    "ok = pd.ExcelFile('file4.xlsx')\n",
    "on_kl = ok.parse('Sheet1')\n",
    "tel.columns = ['tel']\n",
    "kl.columns = ['Name', 'VK', 'E-mail', 'tel']\n",
    "on_kl.columns = ['Name', 'VK', 'E-mail', 'tel']"
   ]
  },
  {
   "cell_type": "markdown",
   "metadata": {},
   "source": [
    "Забрали файлы, привели к нужному виду"
   ]
  },
  {
   "cell_type": "code",
   "execution_count": 21,
   "metadata": {
    "scrolled": false
   },
   "outputs": [],
   "source": [
    "str_bz = (kl[~kl.tel.isin(tel.tel)])\n",
    "str_bz.to_excel('file5.xlsx', startrow=0, index=False)"
   ]
  },
  {
   "cell_type": "markdown",
   "metadata": {},
   "source": [
    "Страница без заказа"
   ]
  },
  {
   "cell_type": "code",
   "execution_count": 22,
   "metadata": {},
   "outputs": [],
   "source": [
    "tel = pd.concat([tel.tel, str_bz.tel],sort=True)\n",
    "tel.to_excel('file6.xlsx', startrow=0, index=False)"
   ]
  },
  {
   "cell_type": "markdown",
   "metadata": {},
   "source": [
    "Обновили список телефонов после кликнувших"
   ]
  },
  {
   "cell_type": "code",
   "execution_count": 23,
   "metadata": {},
   "outputs": [],
   "source": [
    "hoh = (hoh[~hoh['Контактный номер телефона'].isin(tel)])\n",
    "hoh.to_excel('file7.xlsx', startrow=0, index=False)"
   ]
  },
  {
   "cell_type": "markdown",
   "metadata": {},
   "source": [
    "Те, кто оставили данные в форме"
   ]
  },
  {
   "cell_type": "code",
   "execution_count": 24,
   "metadata": {},
   "outputs": [],
   "source": [
    "tel = pd.concat([tel, hoh['Контактный номер телефона']],sort=True)\n",
    "tel.to_excel('file7.xlsx', startrow=0, index=False)"
   ]
  },
  {
   "cell_type": "markdown",
   "metadata": {},
   "source": [
    "Обновили список телефонов после тех, кто оставили данные в форме"
   ]
  },
  {
   "cell_type": "code",
   "execution_count": 25,
   "metadata": {},
   "outputs": [],
   "source": [
    "bl_nv = (on_kl[~on_kl.tel.isin(tel)])\n",
    "bl_nv.to_excel('file8.xlsx', startrow=0, index=False)"
   ]
  },
  {
   "cell_type": "markdown",
   "metadata": {},
   "source": [
    "Те кто был на вебинаре"
   ]
  }
 ],
 "metadata": {
  "kernelspec": {
   "display_name": "Python 3",
   "language": "python",
   "name": "python3"
  },
  "language_info": {
   "codemirror_mode": {
    "name": "ipython",
    "version": 3
   },
   "file_extension": ".py",
   "mimetype": "text/x-python",
   "name": "python",
   "nbconvert_exporter": "python",
   "pygments_lexer": "ipython3",
   "version": "3.6.5"
  }
 },
 "nbformat": 4,
 "nbformat_minor": 2
}
